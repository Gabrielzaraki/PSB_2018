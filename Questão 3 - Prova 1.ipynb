{
 "cells": [
  {
   "cell_type": "code",
   "execution_count": 1,
   "metadata": {},
   "outputs": [],
   "source": [
    "from scipy.signal import *\n",
    "import numpy as np\n",
    "import pywt\n",
    "import scipy.io\n",
    "import matplotlib.pyplot as plt"
   ]
  },
  {
   "cell_type": "code",
   "execution_count": 2,
   "metadata": {},
   "outputs": [],
   "source": [
    "def filter_iterator(h0,h1,Ni):\n",
    "    h = {}\n",
    "    h[Ni] = h1\n",
    "    h_ = h0\n",
    "    \n",
    "    for i in range(Ni-1,0,-1):\n",
    "        u = upfirdn([1],h[i+1], up = 2)\n",
    "        u = u[0:(len(u)-1)]\n",
    "        h[i] = np.convolve(h0,u)\n",
    "        u = upfirdn([1], h_, up = 2)\n",
    "        u = u[0:(len(u)-1)]\n",
    "        h_ = np.convolve(h0,u)\n",
    "    \n",
    "    h[0] = h_\n",
    "        \n",
    "    sam_expoentes = list(range(Ni,0,-1))\n",
    "    c = sam_expoentes[0]\n",
    "    sam_expoentes.insert(0,c)\n",
    "    bases = [2] * (len(sam_expoentes))\n",
    "    sam_factors = np.power(bases,sam_expoentes)\n",
    "        \n",
    "    return h,sam_factors"
   ]
  },
  {
   "cell_type": "code",
   "execution_count": 3,
   "metadata": {},
   "outputs": [],
   "source": [
    "def qmf_decompostion(x,h0,h1,niveis):\n",
    "    h,sampling_factors = filter_iterator(h0,h1,niveis)\n",
    "    x_hat_cell = {}\n",
    "    x_hat_cell[niveis] = 0\n",
    "    \n",
    "    N = 0\n",
    "    \n",
    "    for k in range(niveis, -1,-1):\n",
    "        x_hat_cell[k] = np.convolve(h[k],x)\n",
    "        x_hat_cell[k] = upfirdn([1], x_hat_cell[k],sampling_factors[k])\n",
    "        N = N + len(x_hat_cell[k])\n",
    "    \n",
    "    n = 1\n",
    "    \n",
    "    x_hat = []\n",
    "    \n",
    "    for k in range(niveis):\n",
    "        x_hat[n : len(x_hat_cell[k]) + n] = x_hat_cell[k]\n",
    "        n += len(x_hat_cell[k])\n",
    "        \n",
    "    \n",
    "    return x_hat,x_hat_cell\n",
    "    \n",
    "    \n",
    "    "
   ]
  },
  {
   "cell_type": "code",
   "execution_count": 4,
   "metadata": {},
   "outputs": [],
   "source": [
    "data = scipy.io.loadmat('ecg_1.mat')\n",
    "y = data['x']\n",
    "x = [row[0] for row in y]\n",
    "fs_mat = data['fs']\n",
    "fs = fs_mat[0][0]"
   ]
  },
  {
   "cell_type": "code",
   "execution_count": 6,
   "metadata": {},
   "outputs": [],
   "source": [
    "wavelet = pywt.Wavelet('haar')"
   ]
  },
  {
   "cell_type": "code",
   "execution_count": 7,
   "metadata": {},
   "outputs": [],
   "source": [
    "h0,h1,g0,g1 = wavelet.filter_bank"
   ]
  },
  {
   "cell_type": "code",
   "execution_count": 10,
   "metadata": {},
   "outputs": [],
   "source": [
    "a,b = qmf_decompostion(x,h0,h1,3)"
   ]
  },
  {
   "cell_type": "code",
   "execution_count": 11,
   "metadata": {},
   "outputs": [
    {
     "data": {
      "text/plain": [
       "{3: array([ 20.50609665,   0.        ,   0.        , ...,   0.        ,\n",
       "        -27.57716447,   0.        ]),\n",
       " 2: array([14.5,  0. ,  0. , ...,  0. ,  0. ,  0. ]),\n",
       " 1: array([10.25304833,  0.        ,  0.        , ...,  0.        ,\n",
       "         0.        ,  0.        ]),\n",
       " 0: array([-10.25304833,   0.        ,   0.        , ...,   0.        ,\n",
       "          0.        ,   0.        ])}"
      ]
     },
     "execution_count": 11,
     "metadata": {},
     "output_type": "execute_result"
    }
   ],
   "source": [
    "b[0]"
   ]
  },
  {
   "cell_type": "code",
   "execution_count": 7,
   "metadata": {},
   "outputs": [],
   "source": [
    "def qmf_reconstruction(x_hat_cell, g0, g1, N):\n",
    "\n",
    "    levels = len(x_hat_cell) - 1\n",
    "\n",
    "    g,sampling_factors = filter_iterator(g0,g1,levels)\n",
    "\n",
    "    delay_factors = np.zeros(levels+1)\n",
    "\n",
    "    for i in range(3,levels + 1):\n",
    "        delay_factors[i] = 2 * delay_factors[n - 1] + 1\n",
    "    \n",
    "    x = []\n",
    "    x_ = []\n",
    "\n",
    "    for i in range (1, levels + 1):\n",
    "        x_ = h_hat_cell[i]\n",
    "        x_ = upfirdn([1], x_, up = sampling_factors[i])\n",
    "        x_ = x_[1 : len(x_) - sampling_factors[n] + 1]\n",
    "    \n",
    "        x = x + x_\n",
    "\n",
    "    d = len(g0) - 1;    \n",
    "    D = 2 * delay_factors(len(delay_factors)) + 1;\n",
    "    D = D * d\n",
    "    x = x[D + 1: len(x)]\n",
    "    x = x[1 : N]\n",
    "    \n",
    "    return x\n",
    "\n",
    "    "
   ]
  },
  {
   "cell_type": "markdown",
   "metadata": {},
   "source": [
    "function x = qmf_reconstruction(x_hat_cell, g0, g1, N, h0, h1);\n",
    " \n",
    "levels = length(x_hat_cell) - 1;\n",
    " \n",
    "[g, sampling_factors] = filter_iterator(g0, g1, levels);\n",
    " \n",
    "delay_factors = zeros(levels + 1, 1);\n",
    " \n",
    "for n = 3 : levels + 1\n",
    "    delay_factors(n) = 2 * delay_factors(n - 1) + 1;\n",
    "end\n",
    " \n",
    "if length(g0) == length(g1)\n",
    "    d = length(g0) - 1;\n",
    "else\n",
    "    [t, A, d, t1, t2] = ...\n",
    "    test_qmf_filters_for_perfect_reconstruction(h0, h1, g0, g1);\n",
    "end\n",
    " \n",
    "x = 0;\n",
    "x_ = []\n",
    "for n = 1 : levels + 1\n",
    "    x_ = x_hat_cell{n};\n",
    "    if size(x_, 1) > size(x_, 2)\n",
    "        x_ = [zeros(d * delay_factors(n), 1); x_];\n",
    "    else\n",
    "        x_ = [zeros(1, d * delay_factors(n)) x_];\n",
    "    end\n",
    "    x_ = upsample(x_, sampling_factors(n));\n",
    "    x_ = x_(1 : length(x_) - sampling_factors(n) + 1);\n",
    "    x_ = conv(g{n}, x_);\n",
    "    M = max([length(x) length(x_)]);\n",
    "    if size(x_, 1) > size(x_, 2)\n",
    "        x = [x; zeros(M - length(x), 1)];\n",
    "        x_ = [x_; zeros(M - length(x_), 1)];\n",
    "    else\n",
    "        x = [x zeros(1, M - length(x))];\n",
    "        x_ = [x_ zeros(1, M - length(x_))];\n",
    "    end\n",
    "    x = x + x_;\n",
    "end\n",
    " \n",
    "%z = zeros(length(g{1}) - 1, 1);\n",
    "%zd = downsample(z, sampling_factors(1));\n",
    "%zdu = upsample(zd, sampling_factors(1));\n",
    "%zdu = zdu(1 : end - (sampling_factors(1) - 1));\n",
    "%A = length(zdu);\n",
    "%x = x(1 : end - A);\n",
    " \n",
    "D = 2 * delay_factors(length(delay_factors)) + 1;\n",
    "D = D * d;\n",
    "x = x(D + 1: length(x));\n",
    "x = x(1 : N);"
   ]
  },
  {
   "cell_type": "code",
   "execution_count": 12,
   "metadata": {},
   "outputs": [
    {
     "data": {
      "text/plain": [
       "array([-10.25304833,   0.        ,   0.        , ...,   0.        ,\n",
       "         0.        ,   0.        ])"
      ]
     },
     "execution_count": 12,
     "metadata": {},
     "output_type": "execute_result"
    }
   ],
   "source": [
    "b[0]"
   ]
  },
  {
   "cell_type": "code",
   "execution_count": 13,
   "metadata": {},
   "outputs": [
    {
     "data": {
      "text/plain": [
       "245816"
      ]
     },
     "execution_count": 13,
     "metadata": {},
     "output_type": "execute_result"
    }
   ],
   "source": [
    "len(b[0])"
   ]
  },
  {
   "cell_type": "code",
   "execution_count": 14,
   "metadata": {},
   "outputs": [
    {
     "data": {
      "text/plain": [
       "array([10.25304833,  0.        ,  0.        , ...,  0.        ,\n",
       "        0.        ,  0.        ])"
      ]
     },
     "execution_count": 14,
     "metadata": {},
     "output_type": "execute_result"
    }
   ],
   "source": [
    "b[1]"
   ]
  },
  {
   "cell_type": "code",
   "execution_count": 15,
   "metadata": {},
   "outputs": [
    {
     "data": {
      "text/plain": [
       "245816"
      ]
     },
     "execution_count": 15,
     "metadata": {},
     "output_type": "execute_result"
    }
   ],
   "source": [
    "len(b[1])"
   ]
  },
  {
   "cell_type": "code",
   "execution_count": 16,
   "metadata": {},
   "outputs": [
    {
     "data": {
      "text/plain": [
       "array([14.5,  0. ,  0. , ...,  0. ,  0. ,  0. ])"
      ]
     },
     "execution_count": 16,
     "metadata": {},
     "output_type": "execute_result"
    }
   ],
   "source": [
    "b[2]"
   ]
  },
  {
   "cell_type": "code",
   "execution_count": 17,
   "metadata": {},
   "outputs": [
    {
     "data": {
      "text/plain": [
       "array([ 20.50609665,   0.        ,   0.        , ...,   0.        ,\n",
       "       -27.57716447,   0.        ])"
      ]
     },
     "execution_count": 17,
     "metadata": {},
     "output_type": "execute_result"
    }
   ],
   "source": [
    "b[3]"
   ]
  },
  {
   "cell_type": "code",
   "execution_count": null,
   "metadata": {},
   "outputs": [],
   "source": []
  }
 ],
 "metadata": {
  "kernelspec": {
   "display_name": "Python 3",
   "language": "python",
   "name": "python3"
  },
  "language_info": {
   "codemirror_mode": {
    "name": "ipython",
    "version": 3
   },
   "file_extension": ".py",
   "mimetype": "text/x-python",
   "name": "python",
   "nbconvert_exporter": "python",
   "pygments_lexer": "ipython3",
   "version": "3.6.3"
  }
 },
 "nbformat": 4,
 "nbformat_minor": 2
}
