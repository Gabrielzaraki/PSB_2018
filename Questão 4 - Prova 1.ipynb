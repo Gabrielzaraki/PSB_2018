{
 "cells": [
  {
   "cell_type": "code",
   "execution_count": 61,
   "metadata": {},
   "outputs": [],
   "source": [
    "#!/usr/bin/env python\n",
    "# -*- coding: utf-8 -*-\n",
    "import os\n",
    "import numpy as np\n",
    "from scipy import signal\n",
    "import scipy.io\n",
    "from scipy import stats"
   ]
  },
  {
   "cell_type": "markdown",
   "metadata": {},
   "source": [
    "## Questão 4"
   ]
  },
  {
   "cell_type": "markdown",
   "metadata": {},
   "source": [
    "## Item a -"
   ]
  },
  {
   "cell_type": "markdown",
   "metadata": {},
   "source": [
    "Funções para os cálculos dos parâmetros listados."
   ]
  },
  {
   "cell_type": "code",
   "execution_count": 13,
   "metadata": {},
   "outputs": [],
   "source": [
    "def RMS(x):\n",
    "    rms = np.sqrt((np.sum(np.abs(np.power(x,2)))/len(x)))\n",
    "    return rms\n",
    "\n",
    "def VMR(x):\n",
    "    vmr = np.sqrt((np.sum(np.abs(x)))/len(x))\n",
    "    return vmr\n",
    "\n",
    "def mean_frequency(x,fs):\n",
    "    X = np.power(np.abs(np.fft.fft(x)),2)\n",
    "    X = X[0:int(len(x)/2)]\n",
    "    pesos = np.arange(0,len(X),1)\n",
    "    kmed = np.sum(np.multiply(X,pesos))/np.sum(X)\n",
    "    fmed = kmed * fs/ len(x)\n",
    "    return fmed\n",
    "\n",
    "def modal_frequency(x,fs):\n",
    "    X = np.power(np.abs(np.fft.fft(x)),2)\n",
    "    X = X[0:int(len(x)/2)]\n",
    "    kmod = np.argmax(X)\n",
    "    fmod = kmod * fs/ len(x)\n",
    "    return fmod\n",
    "\n",
    "def median_frequency(x,fs):\n",
    "    X = np.power(np.abs(np.fft.fft(x)),2)\n",
    "    X = X[0:int(len(x)/2)]\n",
    "    total_energy = np.sum(X)\n",
    "    \n",
    "    i = 0\n",
    "    \n",
    "    while True:\n",
    "        sinal_teste = X[0:i]\n",
    "        energy_calculated = np.sum(np.abs(np.power(sinal_teste,2)))\n",
    "        if (energy_calculated >= total_energy/2):\n",
    "            \n",
    "            break\n",
    "        else:\n",
    "            i += 1\n",
    "          \n",
    "    fmedian = i * fs / len(x)    \n",
    "    return fmedian\n",
    "\n",
    "    \n"
   ]
  },
  {
   "cell_type": "code",
   "execution_count": 14,
   "metadata": {},
   "outputs": [],
   "source": [
    "def parametros(sinal,janela,passo,fs,win = None):\n",
    "    sinal = sinal - np.mean(sinal)\n",
    "    janela = int(fs * janela) \n",
    "    passo = int(fs * passo)\n",
    "    \n",
    "    #ESCOLHA DA JANELA\n",
    "    \n",
    "    if (win == None):\n",
    "        win = np.hamming(janela)\n",
    "    elif (win == 'Hamming' or win == 'hamming'):\n",
    "        win = np.hamming(janela)\n",
    "    elif (win == 'Hanning' or win == 'hanning'):\n",
    "        win = np.hanning(janela)\n",
    "    elif (win == 'Blackman' or win == 'blackman'):\n",
    "        win = np.blackman(janela) \n",
    "    elif (win == 'Bartlett' or win == 'bartlett'):\n",
    "        win = np.bartlett(janela)     \n",
    "    else: \n",
    "        return print('Erro: Janela não especificada')\n",
    "    \n",
    "    #INICIALIZAÇÃO DAS VARIÁVEIS\n",
    "    \n",
    "    init = 0\n",
    "    RMS_ = []\n",
    "    VMR_ = []\n",
    "    FMED_ = []\n",
    "    FMOD_ = []\n",
    "    FMEDIAN_ = []\n",
    "    \n",
    "    #SEPARAÇÃO EM JANELAS\n",
    "    \n",
    "    while True:   \n",
    "        amostras = sinal[init:((init + janela))]\n",
    "        if(len(amostras) == janela):\n",
    "            \n",
    "            #CALCULOS DOS PARAMETROS\n",
    "            \n",
    "            rms = RMS(amostras)\n",
    "            RMS_ = np.append(RMS_,rms)\n",
    "            \n",
    "            vmr = VMR(amostras)\n",
    "            VMR_ = np.append(VMR_,vmr)\n",
    "            \n",
    "            #MULTIPLICAÇÃO PELA JANELA\n",
    "            \n",
    "            amostras_janeladas = np.multiply(amostras,win)\n",
    "            \n",
    "            fmed = mean_frequency(amostras_janeladas,fs)\n",
    "            FMED_ = np.append(FMED_,fmed)\n",
    "            \n",
    "            fmod = modal_frequency(amostras_janeladas,fs)\n",
    "            FMOD_ = np.append(FMOD_,fmod)\n",
    "            \n",
    "            fmedian = median_frequency(amostras_janeladas,fs)\n",
    "            FMEDIAN_ = np.append(FMEDIAN_,fmedian)\n",
    "            \n",
    "            init += passo\n",
    "            \n",
    "        else:\n",
    "            break\n",
    "    \n",
    "    return RMS_,VMR_,FMED_,FMOD_,FMEDIAN_"
   ]
  },
  {
   "cell_type": "markdown",
   "metadata": {},
   "source": [
    "## Carregando sinais de cada grupo"
   ]
  },
  {
   "cell_type": "code",
   "execution_count": 158,
   "metadata": {},
   "outputs": [],
   "source": [
    "os.chdir('/home/gabriel/Documentos/PSB_2018/eeg/a')\n",
    "data = scipy.io.loadmat('x1.mat')\n",
    "y = data['x']\n",
    "xa = [row[0] for row in y]\n",
    "fs_mat = data['fs']\n",
    "fsa = fs_mat[0][0]"
   ]
  },
  {
   "cell_type": "code",
   "execution_count": 159,
   "metadata": {},
   "outputs": [],
   "source": [
    "os.chdir('/home/gabriel/Documentos/PSB_2018/eeg/b')\n",
    "data1 = scipy.io.loadmat('x101.mat')\n",
    "y1 = data1['x']\n",
    "xb = [row[0] for row in y1]\n",
    "fs_mat1 = data1['fs']\n",
    "fsb = fs_mat1[0][0]"
   ]
  },
  {
   "cell_type": "code",
   "execution_count": 160,
   "metadata": {},
   "outputs": [],
   "source": [
    "os.chdir('/home/gabriel/Documentos/PSB_2018/eeg/c')\n",
    "data2 = scipy.io.loadmat('x201.mat')\n",
    "y2 = data2['x']\n",
    "xc = [row[0] for row in y2]\n",
    "fs_mat2 = data2['fs']\n",
    "fsc = fs_mat2[0][0]"
   ]
  },
  {
   "cell_type": "code",
   "execution_count": 165,
   "metadata": {},
   "outputs": [],
   "source": [
    "os.chdir('/home/gabriel/Documentos/PSB_2018/eeg/d')\n",
    "data3 = scipy.io.loadmat('x301.mat')\n",
    "y3 = data3['x']\n",
    "xd = [row[0] for row in y3]\n",
    "fs_mat3 = data3['fs']\n",
    "fsd = fs_mat3[0][0]"
   ]
  },
  {
   "cell_type": "code",
   "execution_count": 169,
   "metadata": {},
   "outputs": [],
   "source": [
    "os.chdir('/home/gabriel/Documentos/PSB_2018/eeg/e')\n",
    "data4 = scipy.io.loadmat('x401.mat')\n",
    "y4 = data4['x']\n",
    "xe = [row[0] for row in y4]\n",
    "fs_mat4 = data4['fs']\n",
    "fse = fs_mat4[0][0]"
   ]
  },
  {
   "cell_type": "markdown",
   "metadata": {},
   "source": [
    "## Calculando RMS,VMR,FMED,FMOD e FMEDIAN para os sinais"
   ]
  },
  {
   "cell_type": "markdown",
   "metadata": {},
   "source": [
    "## Grupo a"
   ]
  },
  {
   "cell_type": "code",
   "execution_count": 204,
   "metadata": {},
   "outputs": [
    {
     "name": "stdout",
     "output_type": "stream",
     "text": [
      "RMS = 28.72 VMR = 4.84 FMED = 3.55 FMOD = 1.2 FMEDIAN = 0.2 (*valores médios)\n"
     ]
    }
   ],
   "source": [
    "RMS_a,VMR_a,FMED_a,FMOD_a,FMEDIAN_a = parametros(xa,5,2.5,fsa,win = None)\n",
    "RMS_a = np.round(np.mean(RMS_a),2)\n",
    "VMR_a = np.round(np.mean(VMR_a),2)\n",
    "FMED_a = np.round(np.mean(FMED_a),2)\n",
    "FMOD_a = np.round(np.mean(FMOD_a),2)\n",
    "FMEDIAN_a = np.round(np.mean(FMEDIAN_a),2)\n",
    "print(\"RMS = \"+ str(RMS_a) + \" VMR = \" + str(VMR_a) + \" FMED = \" + str(FMED_a)\\\n",
    "+ \" FMOD = \" + str(FMOD_a) + \" FMEDIAN = \" + str(FMEDIAN_a) + \" (*valores médios)\")"
   ]
  },
  {
   "cell_type": "markdown",
   "metadata": {},
   "source": [
    "## Grupo b"
   ]
  },
  {
   "cell_type": "code",
   "execution_count": 196,
   "metadata": {},
   "outputs": [
    {
     "name": "stdout",
     "output_type": "stream",
     "text": [
      "RMS = 48.42 VMR = 6.18 FMED = 3.66 FMOD = 2.0 FMEDIAN = 0.23 (*valores médios)\n"
     ]
    }
   ],
   "source": [
    "RMS_b,VMR_b,FMED_b,FMOD_b,FMEDIAN_b = parametros(xb,5,2.5,fsb,win = None)\n",
    "RMS_b = np.round(np.mean(RMS_b),2)\n",
    "VMR_b = np.round(np.mean(VMR_b),2)\n",
    "FMED_b = np.round(np.mean(FMED_b),2)\n",
    "FMOD_b = np.round(np.mean(FMOD_b))\n",
    "FMEDIAN_b = np.round(np.mean(FMEDIAN_b),2)\n",
    "print(\"RMS = \"+ str(RMS_b) + \" VMR = \" + str(VMR_b) + \" FMED = \" + str(FMED_b)\\\n",
    "+ \" FMOD = \" + str(FMOD_b) + \" FMEDIAN = \" + str(FMEDIAN_b) + \" (*valores médios)\")"
   ]
  },
  {
   "cell_type": "markdown",
   "metadata": {},
   "source": [
    "## Grupo c"
   ]
  },
  {
   "cell_type": "code",
   "execution_count": 197,
   "metadata": {},
   "outputs": [
    {
     "name": "stdout",
     "output_type": "stream",
     "text": [
      "RMS = 49.05 VMR = 6.25 FMED = 7.41 FMOD = 2.0 FMEDIAN = 0.23 (*valores médios)\n"
     ]
    }
   ],
   "source": [
    "RMS_c,VMR_c,FMED_c,FMOD_c,FMEDIAN_c = parametros(xc,5,2.5,fsc,win = None)\n",
    "RMS_c = np.round(np.mean(RMS_c),2)\n",
    "VMR_c = np.round(np.mean(VMR_c),2)\n",
    "FMED_c = np.round(np.mean(FMED_c),2)\n",
    "FMOD_c = np.round(np.mean(FMOD_c))\n",
    "FMEDIAN_c = np.round(np.mean(FMEDIAN_c),2)\n",
    "print(\"RMS = \"+ str(RMS_c) + \" VMR = \" + str(VMR_c) + \" FMED = \" + str(FMED_c)\\\n",
    "+ \" FMOD = \" + str(FMOD_c) + \" FMEDIAN = \" + str(FMEDIAN_c) + \" (*valores médios)\")"
   ]
  },
  {
   "cell_type": "markdown",
   "metadata": {},
   "source": [
    "## Grupo d"
   ]
  },
  {
   "cell_type": "code",
   "execution_count": 203,
   "metadata": {},
   "outputs": [
    {
     "name": "stdout",
     "output_type": "stream",
     "text": [
      "RMS = 474.38 VMR = 18.97 FMED = 8.92 FMOD = 3.48 FMEDIAN = 0.2 (*valores médios)\n"
     ]
    }
   ],
   "source": [
    "RMS_d,VMR_d,FMED_d,FMOD_d,FMEDIAN_d = parametros(xd,5,2.5,fsd,win = None)\n",
    "RMS_d = np.round(np.mean(RMS_d),2)\n",
    "VMR_d = np.round(np.mean(VMR_d),2)\n",
    "FMED_d = np.round(np.mean(FMED_d),2)\n",
    "FMOD_d = np.round(np.mean(FMOD_d),2)\n",
    "FMEDIAN_d = np.round(np.mean(FMEDIAN_d),2)\n",
    "print(\"RMS = \"+ str(RMS_d) + \" VMR = \" + str(VMR_d) + \" FMED = \" + str(FMED_d)\\\n",
    "+ \" FMOD = \" + str(FMOD_d) + \" FMEDIAN = \" + str(FMEDIAN_d) + \" (*valores médios)\")"
   ]
  },
  {
   "cell_type": "markdown",
   "metadata": {},
   "source": [
    "## Grupo e"
   ]
  },
  {
   "cell_type": "code",
   "execution_count": 206,
   "metadata": {},
   "outputs": [
    {
     "name": "stdout",
     "output_type": "stream",
     "text": [
      "RMS = 42.87 VMR = 5.79 FMED = 6.83 FMOD = 2.25 FMEDIAN = 0.2 (*valores médios)\n"
     ]
    }
   ],
   "source": [
    "RMS_e,VMR_e,FMED_e,FMOD_e,FMEDIAN_e = parametros(xe,5,2.5,fse,win = None)\n",
    "RMS_e = np.round(np.mean(RMS_e),2)\n",
    "VMR_e = np.round(np.mean(VMR_e),2)\n",
    "FMED_e = np.round(np.mean(FMED_e),2)\n",
    "FMOD_e = np.round(np.mean(FMOD_e),2)\n",
    "FMEDIAN_e = np.round(np.mean(FMEDIAN_e),2)\n",
    "print(\"RMS = \"+ str(RMS_e) + \" VMR = \" + str(VMR_e) + \" FMED = \" + str(FMED_e)\\\n",
    "+ \" FMOD = \" + str(FMOD_e) + \" FMEDIAN = \" + str(FMEDIAN_e) + \" (*valores médios)\")"
   ]
  },
  {
   "cell_type": "markdown",
   "metadata": {},
   "source": [
    "## Tabela de Resultados"
   ]
  },
  {
   "cell_type": "markdown",
   "metadata": {},
   "source": [
    "| GRUPO         | A     | B     | C     |    D   | E     |\n",
    "|---------------|-------|-------|-------|:------:|-------|\n",
    "| RMS (uM)      | 28.72 | 48.42 | 49.05 | 474.38 | 42.87 |\n",
    "| VMR (uM)      | 4.84  | 6.18  | 6.25  | 18.97  | 5.79  |\n",
    "| FMEDIA (Hz)   | 3.55  | 3.66  | 7.41  | 8.92   | 6.83  |\n",
    "| FMODAL (Hz)   | 1.2   | 2.0   | 2.0   | 3.48   | 2.25  |\n",
    "| FMEDIANA (Hz) | 0.2   | 0.23  | 0.23  | 0.2    | 0.2   |"
   ]
  },
  {
   "cell_type": "markdown",
   "metadata": {},
   "source": [
    "## Item b -"
   ]
  },
  {
   "cell_type": "markdown",
   "metadata": {},
   "source": [
    "## Calculando energia nas bandas delta, teta, alfa, beta, gama"
   ]
  },
  {
   "cell_type": "code",
   "execution_count": 21,
   "metadata": {},
   "outputs": [],
   "source": [
    "def energia_bandas(sinal,fs):\n",
    "    \n",
    "    #Bandas\n",
    "    delta = 4\n",
    "    teta = [4,7]\n",
    "    alfa = [7,15]\n",
    "    beta = [16,31]\n",
    "    gama = 32\n",
    "    \n",
    "    #filtros FIR nas frequências da tabela do item b\n",
    "    \n",
    "    Wdelta = signal.firwin(1001, delta, nyq=fs/2)\n",
    "    Wteta = signal.firwin(1001, teta, nyq=fs/2, pass_zero=False)\n",
    "    Walfa = signal.firwin(1001, alfa, nyq=fs/2, pass_zero=False)\n",
    "    Wbeta = signal.firwin(1001, beta, nyq=fs/2, pass_zero=False)\n",
    "    Wgama = signal.firwin(1001, gama, nyq=fs/2, pass_zero=False)\n",
    "    \n",
    "    sinal_delta = np.convolve(sinal,Wdelta)\n",
    "    sinal_teta = np.convolve(sinal,Wteta)\n",
    "    sinal_alfa = np.convolve(sinal,Walfa)\n",
    "    sinal_beta = np.convolve(sinal,Wbeta)\n",
    "    sinal_gama = np.convolve(sinal,Wgama)\n",
    "    \n",
    "    #calculando energia nas bandas\n",
    "    \n",
    "    energia_total = np.sum(np.power(np.abs((sinal)),2))\n",
    "    \n",
    "    energia_delta = np.sum(np.power(np.abs(sinal_delta),2))\n",
    "    energia_teta = np.sum(np.power(np.abs(sinal_teta),2))\n",
    "    energia_alfa = np.sum(np.power(np.abs(sinal_alfa),2))\n",
    "    energia_beta = np.sum(np.power(np.abs(sinal_beta),2))\n",
    "    energia_gama = np.sum(np.power(np.abs(sinal_gama),2))\n",
    "    \n",
    "    energia_percentual_delta = energia_delta/energia_total * 100\n",
    "    energia_percentual_teta = energia_teta/energia_total * 100\n",
    "    energia_percentual_alfa = energia_alfa/energia_total * 100\n",
    "    energia_percentual_beta = energia_beta/energia_total * 100\n",
    "    energia_percentual_gama = energia_gama/energia_total * 100\n",
    "    \n",
    "    #print(energia_total, energia_delta)\n",
    "    \n",
    "    return energia_percentual_delta,energia_percentual_teta,energia_percentual_alfa,\\\n",
    "    energia_percentual_beta,energia_percentual_gama\n",
    "    \n",
    "def calcula_energia(sinal,fs,janela,passo):\n",
    "    sinal = sinal - np.mean(sinal)\n",
    "    janela = int(fs * janela) \n",
    "    passo = int(fs * passo)\n",
    "     \n",
    "    init = 0\n",
    "    AMOSTRAS = []\n",
    "    DELTA = []\n",
    "    TETA = []\n",
    "    ALFA = []\n",
    "    BETA = []\n",
    "    GAMA = []\n",
    "    \n",
    "    while True:   \n",
    "        amostras = sinal[init:(init + janela)]\n",
    "        if(len(amostras) == janela):\n",
    "            \n",
    "            delta,teta,alfa,beta,gama = energia_bandas(amostras,fs)\n",
    "            \n",
    "            \n",
    "            \n",
    "            \n",
    "            DELTA = np.append(DELTA,delta)\n",
    "            TETA = np.append(TETA,teta)\n",
    "            ALFA = np.append(ALFA,alfa)\n",
    "            BETA = np.append(BETA,beta)\n",
    "            GAMA = np.append(GAMA,gama)\n",
    "            \n",
    "            init += passo\n",
    "    \n",
    "        else:\n",
    "            break\n",
    "    \n",
    "    return DELTA,TETA,ALFA,BETA,GAMA\n",
    "    "
   ]
  },
  {
   "cell_type": "markdown",
   "metadata": {},
   "source": [
    "## Cálculo de energia nas bandas para os sinais dos grupos A, B, C, D e E"
   ]
  },
  {
   "cell_type": "markdown",
   "metadata": {},
   "source": [
    "## Grupo A"
   ]
  },
  {
   "cell_type": "code",
   "execution_count": 315,
   "metadata": {
    "scrolled": true
   },
   "outputs": [],
   "source": [
    "q,w,e,r,s = calcula_energia(xa,fsa,5,2.5)"
   ]
  },
  {
   "cell_type": "code",
   "execution_count": 319,
   "metadata": {},
   "outputs": [
    {
     "name": "stdout",
     "output_type": "stream",
     "text": [
      "75.03875661797926 11.710278896902995 8.384495602810858 2.168638904657522 0.5516004338818751\n"
     ]
    }
   ],
   "source": [
    "print(q,w,e,r,s)"
   ]
  },
  {
   "cell_type": "markdown",
   "metadata": {},
   "source": [
    "## Grupo B"
   ]
  },
  {
   "cell_type": "code",
   "execution_count": 321,
   "metadata": {},
   "outputs": [],
   "source": [
    "q1,w1,e1,r1,s1 = calcula_energia(xb,fsb,5,2.5)"
   ]
  },
  {
   "cell_type": "code",
   "execution_count": 322,
   "metadata": {},
   "outputs": [
    {
     "name": "stdout",
     "output_type": "stream",
     "text": [
      "67.1403345904578 19.935929427275067 9.632101803392633 1.0958794908869482 0.19349837786758772\n"
     ]
    }
   ],
   "source": [
    "print(q1,w1,e1,r1,s1)"
   ]
  },
  {
   "cell_type": "markdown",
   "metadata": {},
   "source": [
    "## Grupo C"
   ]
  },
  {
   "cell_type": "code",
   "execution_count": 324,
   "metadata": {},
   "outputs": [],
   "source": [
    "q2,w2,e2,r2,s2 = calcula_energia(xc,fsc,5,2.5)"
   ]
  },
  {
   "cell_type": "code",
   "execution_count": 325,
   "metadata": {},
   "outputs": [
    {
     "name": "stdout",
     "output_type": "stream",
     "text": [
      "41.5739883241532 9.129799457146959 40.35035308423433 5.9692827275536775 0.7438470536058548\n"
     ]
    }
   ],
   "source": [
    "print(q2,w2,e2,r2,s2)"
   ]
  },
  {
   "cell_type": "markdown",
   "metadata": {},
   "source": [
    "## Grupo D"
   ]
  },
  {
   "cell_type": "code",
   "execution_count": 327,
   "metadata": {},
   "outputs": [],
   "source": [
    "q3,w3,e3,r3,s3 = calcula_energia(xd,fsd,5,2.5)"
   ]
  },
  {
   "cell_type": "code",
   "execution_count": 328,
   "metadata": {},
   "outputs": [
    {
     "name": "stdout",
     "output_type": "stream",
     "text": [
      "31.251221054645605 16.125306367217224 31.515451675540643 13.69676440449765 0.41606828730334766\n"
     ]
    }
   ],
   "source": [
    "print(q3,w3,e3,r3,s3)"
   ]
  },
  {
   "cell_type": "markdown",
   "metadata": {},
   "source": [
    "## Grupo E"
   ]
  },
  {
   "cell_type": "code",
   "execution_count": 329,
   "metadata": {},
   "outputs": [],
   "source": [
    "q4,w4,e4,r4,s4 = calcula_energia(xe,fse,5,2.5)"
   ]
  },
  {
   "cell_type": "code",
   "execution_count": 330,
   "metadata": {},
   "outputs": [
    {
     "name": "stdout",
     "output_type": "stream",
     "text": [
      "41.27014174892743 15.13906173557773 32.47235942619969 7.4534937067700096 0.5673841511483435\n"
     ]
    }
   ],
   "source": [
    "print(q4,w4,e4,r4,s4)"
   ]
  },
  {
   "cell_type": "markdown",
   "metadata": {},
   "source": [
    "## Resultados (**valores percentuais)"
   ]
  },
  {
   "cell_type": "markdown",
   "metadata": {},
   "source": [
    "| BANDAS\\GRUPO |   A   |   B   |   C   |   D   |   E   |\n",
    "|--------------|:-----:|:-----:|:-----:|:-----:|:-----:|\n",
    "|     DELTA    | 75.04 | 67.14 | 41.57 | 31.25 | 41.27 |\n",
    "|     TETA     | 11.71 | 19.94 | 9.13  | 16.13 | 15.14 |\n",
    "|     ALFA     | 8.38  | 9.63  | 40.35 | 31.52 | 32.47 |\n",
    "|     BETA     | 2.17  | 1.01  | 5.97  | 13.70 | 7.45  |\n",
    "|     GAMA     | 0.55  | 0.19  | 0.74  | 0.42  | 0.57  |"
   ]
  },
  {
   "cell_type": "markdown",
   "metadata": {},
   "source": [
    "## Item c -"
   ]
  },
  {
   "cell_type": "code",
   "execution_count": 78,
   "metadata": {},
   "outputs": [],
   "source": [
    "def energias_em_bandas_consecutivas(sinal,fs):\n",
    "    \n",
    "    nbandas = 10\n",
    "    \n",
    "    max_f = fs/2\n",
    "    \n",
    "    band_increment = max_f/nbandas\n",
    "    \n",
    "    bandas = []\n",
    "    \n",
    "    for i in range(1,nbandas):\n",
    "        bandas.append(band_increment * i)\n",
    "        \n",
    "    n1,d1 = signal.butter(5, bandas[0]/fs * 2, 'low')\n",
    "    n2,d2 = signal.butter(5, [bandas[0]/fs,bandas[1]/fs]* 2, 'bandpass' )\n",
    "    n3,d3 = signal.butter(5, [bandas[1]/fs,bandas[2]/fs]* 2, 'bandpass')\n",
    "    n4,d4 = signal.butter(5, [bandas[2]/fs,bandas[3]/fs]* 2, 'bandpass')\n",
    "    n5,d5 = signal.butter(5, [bandas[3]/fs,bandas[4]/fs]* 2, 'bandpass')\n",
    "    n6,d6 = signal.butter(5, [bandas[4]/fs,bandas[5]/fs]* 2, 'bandpass')\n",
    "    n7,d7 = signal.butter(5, [bandas[5]/fs,bandas[6]/fs]* 2, 'bandpass')\n",
    "    n8,d8 = signal.butter(5, [bandas[6]/fs,bandas[7]/fs]* 2, 'bandpass')\n",
    "    n9,d9 = signal.butter(5, [bandas[7]/fs,bandas[8]/fs]* 2, 'bandpass')\n",
    "    n10,d10 = signal.butter(5, bandas[8]/fs, 'highpass')\n",
    "    \n",
    "    sinal1 = scipy.signal.lfilter(n1, d1, sinal)\n",
    "    sinal2 = scipy.signal.lfilter(n2, d2, sinal)\n",
    "    sinal3 = scipy.signal.lfilter(n3, d3, sinal)\n",
    "    sinal4 = scipy.signal.lfilter(n4, d4, sinal)\n",
    "    sinal5 = scipy.signal.lfilter(n5, d5, sinal)\n",
    "    sinal6 = scipy.signal.lfilter(n6, d6, sinal)\n",
    "    sinal7 = scipy.signal.lfilter(n7, d7, sinal)\n",
    "    sinal8 = scipy.signal.lfilter(n8, d8, sinal)\n",
    "    sinal9 = scipy.signal.lfilter(n9, d9, sinal)\n",
    "    sinal10 = scipy.signal.lfilter(n10, d10, sinal)\n",
    "    \n",
    "    energia_total = np.sum(np.power(np.abs(sinal),2))\n",
    "    energia_1 = np.sum(np.power(np.abs(sinal1),2))\n",
    "    energia_2 = np.sum(np.power(np.abs(sinal2),2))\n",
    "    energia_3 = np.sum(np.power(np.abs(sinal3),2))\n",
    "    energia_4 = np.sum(np.power(np.abs(sinal4),2))\n",
    "    energia_5 = np.sum(np.power(np.abs(sinal5),2))\n",
    "    energia_6 = np.sum(np.power(np.abs(sinal6),2))\n",
    "    energia_7 = np.sum(np.power(np.abs(sinal7),2))\n",
    "    energia_8 = np.sum(np.power(np.abs(sinal8),2))\n",
    "    energia_9 = np.sum(np.power(np.abs(sinal9),2))\n",
    "    energia_10 = np.sum(np.power(np.abs(sinal10),2))\n",
    "    \n",
    "    energia_percentual1 = energia_1/energia_total * 100\n",
    "    energia_percentual2 = energia_2/energia_total * 100\n",
    "    energia_percentual3 = energia_3/energia_total * 100\n",
    "    energia_percentual4 = energia_4/energia_total * 100\n",
    "    energia_percentual5 = energia_5/energia_total * 100\n",
    "    energia_percentual6 = energia_6/energia_total * 100\n",
    "    energia_percentual7 = energia_7/energia_total * 100\n",
    "    energia_percentual8 = energia_8/energia_total * 100\n",
    "    energia_percentual9 = energia_9/energia_total * 100\n",
    "    energia_percentual10 = energia_10/energia_total * 100\n",
    "        \n",
    "    return (energia_percentual1,energia_percentual2,energia_percentual3,energia_percentual4,energia_percentual5\\\n",
    "    ,energia_percentual6,energia_percentual7,energia_percentual8,energia_percentual9,energia_percentual10)\n",
    "\n",
    "def calcula_energia_bandas_consecutivas(sinal,fs,janela,passo):\n",
    "    \n",
    "    sinal = sinal - np.mean(sinal)\n",
    "    janela = int(fs * janela) \n",
    "    passo = int(fs * passo)\n",
    "     \n",
    "    init = 0\n",
    "    BANDA1 = []\n",
    "    BANDA2 = []\n",
    "    BANDA3 = []\n",
    "    BANDA4 = []\n",
    "    BANDA5 = []\n",
    "    BANDA6 = []\n",
    "    BANDA7 = []\n",
    "    BANDA8 = []\n",
    "    BANDA9 = []\n",
    "    BANDA10 = []\n",
    "    \n",
    "    while True:   \n",
    "        amostras = sinal[init:(init + janela)]\n",
    "        if(len(amostras) == janela):\n",
    "            \n",
    "            banda1,banda2,banda3,banda4,banda5,banda6,banda7,banda8,banda9,banda10 =\\\n",
    "            energias_em_bandas_consecutivas(amostras,fs)\n",
    "            \n",
    "            BANDA1 = np.append(BANDA1,banda1)\n",
    "            BANDA2 = np.append(BANDA2,banda2)\n",
    "            BANDA3 = np.append(BANDA3,banda3)\n",
    "            BANDA4 = np.append(BANDA4,banda4)\n",
    "            BANDA5 = np.append(BANDA5,banda5)\n",
    "            BANDA6 = np.append(BANDA6,banda6)\n",
    "            BANDA7 = np.append(BANDA7,banda7)\n",
    "            BANDA8 = np.append(BANDA8,banda8)\n",
    "            BANDA9 = np.append(BANDA9,banda9)\n",
    "            BANDA10 = np.append(BANDA10,banda10)\n",
    "            \n",
    "            init += passo\n",
    "    \n",
    "        else:\n",
    "            break        \n",
    "    \n",
    "    return BANDA1,BANDA2,BANDA3,BANDA4,BANDA5,BANDA6,BANDA7,BANDA8,BANDA9,BANDA10\n",
    "    \n",
    "    \n",
    "    "
   ]
  },
  {
   "cell_type": "markdown",
   "metadata": {},
   "source": [
    "## Calculando energia em bandas consecutivas para os diferentes grupos"
   ]
  },
  {
   "cell_type": "code",
   "execution_count": 435,
   "metadata": {},
   "outputs": [
    {
     "data": {
      "text/plain": [
       "(91.01, 11.52, 3.69, 2.09, 0.71, 0.67, 0.27, 0.12, 0.06, 0.36)"
      ]
     },
     "execution_count": 435,
     "metadata": {},
     "output_type": "execute_result"
    }
   ],
   "source": [
    "calcula_energia_bandas_consecutivas(xa, fsa,5,2.5)"
   ]
  },
  {
   "cell_type": "code",
   "execution_count": 436,
   "metadata": {},
   "outputs": [
    {
     "data": {
      "text/plain": [
       "(91.77, 18.86, 3.61, 1.76, 0.57, 0.24, 0.09, 0.04, 0.02, 0.13)"
      ]
     },
     "execution_count": 436,
     "metadata": {},
     "output_type": "execute_result"
    }
   ],
   "source": [
    "calcula_energia_bandas_consecutivas(xb, fsb,5,2.5)"
   ]
  },
  {
   "cell_type": "code",
   "execution_count": 437,
   "metadata": {},
   "outputs": [
    {
     "data": {
      "text/plain": [
       "(59.6, 14.73, 29.29, 4.95, 2.38, 2.25, 0.99, 0.4, 0.29, 0.59)"
      ]
     },
     "execution_count": 437,
     "metadata": {},
     "output_type": "execute_result"
    }
   ],
   "source": [
    "calcula_energia_bandas_consecutivas(xc, fsc,5,2.5)"
   ]
  },
  {
   "cell_type": "code",
   "execution_count": 438,
   "metadata": {},
   "outputs": [
    {
     "data": {
      "text/plain": [
       "(56.56, 15.46, 17.59, 17.68, 5.27, 1.14, 0.31, 0.19, 0.08, 0.12)"
      ]
     },
     "execution_count": 438,
     "metadata": {},
     "output_type": "execute_result"
    }
   ],
   "source": [
    "calcula_energia_bandas_consecutivas(xd, fsd,5,2.5)"
   ]
  },
  {
   "cell_type": "code",
   "execution_count": 439,
   "metadata": {},
   "outputs": [
    {
     "data": {
      "text/plain": [
       "(62.55, 16.05, 25.98, 3.48, 1.87, 2.34, 1.13, 0.28, 0.09, 0.27)"
      ]
     },
     "execution_count": 439,
     "metadata": {},
     "output_type": "execute_result"
    }
   ],
   "source": [
    "calcula_energia_bandas_consecutivas(xe, fse,5,2.5)"
   ]
  },
  {
   "cell_type": "markdown",
   "metadata": {},
   "source": [
    "## Resultados - (bandas em ordem crescente)\n"
   ]
  },
  {
   "cell_type": "markdown",
   "metadata": {},
   "source": [
    "| BANDAS\\GRUPO |   A   |   B   |   C   |   D   |   E   |\n",
    "|--------------|:-----:|:-----:|:-----:|:-----:|:-----:|\n",
    "|       1      | 91.01 | 91.77 | 59.6  | 56.56 | 62.55 |\n",
    "|       2      | 11.52 | 18.86 | 14.73 | 15.46 | 16.05 |\n",
    "|       3      | 3.69  | 3.61  | 29.29 | 17.59 | 25.98 |\n",
    "|       4      | 2.09  | 1.76  | 4.95  | 17.68 | 3.48  |\n",
    "|       5      | 0.71  | 0.57  | 2.38  | 5.27  | 1.87  |\n",
    "|       6      | 0.67  | 0.24  | 2.25  | 1.14  | 2.34  |\n",
    "|       7      | 0.27  | 0.09  | 0.99  | 0.31  | 1.13  |\n",
    "|       8      | 0.12  | 0.04  | 0.4   | 0.19  | 0.28  |\n",
    "|       9      | 0.06  | 0.02  | 0.29  | 0.08  | 0.09  |\n",
    "|      10      | 0.36  | 0.13  | 0.59  | 0.12  | 0.27  |"
   ]
  },
  {
   "cell_type": "markdown",
   "metadata": {},
   "source": [
    "## Item d - \n"
   ]
  },
  {
   "cell_type": "markdown",
   "metadata": {},
   "source": [
    "Para a primeira tabela é possível diferenciar o grupo A dos demais por algumas características como:\n",
    "ter valor RMS inferior ao de B, valor RMS e frequência média inferior ao grupo C, valor RMS,VMR e frequência média inferior ao grupo D e por fim o grupo E apresenta valor RMS e frequência média superiores.\n",
    "    Na segunda tabela as diferenças entre o grupo A e os demais são:\n",
    "O grupo A possui menor energia na banda teta que o grupo B, possui maior energia na banda delta e menor energia nas bandas alfa e beta quando comparado aos grupo C,D e E.\n",
    "    Como há uma semelhança nos dados das duas últimas tabelas, algumas caraterísticas serão semelhantes, mas fica claro que:\n",
    "    O grupo A possui mais energia nas bandas de maior frequência que B, e possui maior energia na banda 1 e menor na banda 3 que os grupos C,D e E.\n",
    "    \n",
    "  "
   ]
  },
  {
   "cell_type": "markdown",
   "metadata": {},
   "source": [
    "## Item e -"
   ]
  },
  {
   "cell_type": "code",
   "execution_count": 79,
   "metadata": {},
   "outputs": [],
   "source": [
    "os.chdir('/home/gabriel/Documentos/PSB_2018/eeg/a')\n",
    "RMS_A = [] \n",
    "VMR_A = []\n",
    "FMED_A = []\n",
    "FMOD_A = []\n",
    "FMEDIAN_A = []\n",
    "DELTA_A = []\n",
    "TETA_A = []\n",
    "ALFA_A = []\n",
    "BETA_A = []\n",
    "GAMA_A = []\n",
    "BANDA1_A = []\n",
    "BANDA2_A = []\n",
    "BANDA3_A = []\n",
    "BANDA4_A = []\n",
    "BANDA5_A = []\n",
    "BANDA6_A = []\n",
    "BANDA7_A = []\n",
    "BANDA8_A = []\n",
    "BANDA9_A = []\n",
    "BANDA10_A = []\n",
    "\n",
    "for i in range(1,101): \n",
    "    data = scipy.io.loadmat(\"x\"+str(i)+\".mat\")\n",
    "    y = data['x']\n",
    "    x = [row[0] for row in y]\n",
    "    fs_mat = data['fs']\n",
    "    fs = fs_mat[0][0]\n",
    "    \n",
    "    RMS_,VMR_,FMED_,FMOD_,FMEDIAN_ = parametros(x,5,2.5,fs,win = None)\n",
    "    RMS_A = np.append(RMS_A, RMS_) \n",
    "    VMR_A = np.append(VMR_A, VMR_)\n",
    "    FMED_A = np.append(FMED_A, FMED_)\n",
    "    FMOD_A = np.append(FMOD_A, FMOD_)\n",
    "    FMEDIAN_A = np.append(FMEDIAN_A, FMEDIAN_)\n",
    "    \n",
    "    DELTA_,TETA_,ALFA_,BETA_,GAMA_ = calcula_energia(x,fs,5,2.5)\n",
    "    DELTA_A = np.append(DELTA_A, DELTA_)\n",
    "    TETA_A = np.append(TETA_A, TETA_)\n",
    "    ALFA_A = np.append(ALFA_A, ALFA_)\n",
    "    BETA_A = np.append(BETA_A, BETA_)\n",
    "    GAMA_A = np.append(GAMA_A, GAMA_)\n",
    "    \n",
    "    BANDA1_,BANDA2_,BANDA3_,BANDA4_,BANDA5_,BANDA6_,BANDA7_,BANDA8_,BANDA9_,BANDA10_ = \\\n",
    "    calcula_energia_bandas_consecutivas(x,fs,5,2.5)\n",
    "        \n",
    "    BANDA1_A = np.append(BANDA1_A,BANDA1_)\n",
    "    BANDA2_A = np.append(BANDA2_A,BANDA2_)\n",
    "    BANDA3_A = np.append(BANDA3_A,BANDA3_)\n",
    "    BANDA4_A = np.append(BANDA4_A,BANDA4_)\n",
    "    BANDA5_A = np.append(BANDA5_A,BANDA5_)\n",
    "    BANDA6_A = np.append(BANDA6_A,BANDA6_)\n",
    "    BANDA7_A = np.append(BANDA7_A,BANDA7_)\n",
    "    BANDA8_A = np.append(BANDA8_A,BANDA8_)\n",
    "    BANDA9_A = np.append(BANDA9_A,BANDA9_)\n",
    "    BANDA10_A = np.append(BANDA10_A,BANDA10_)\n",
    "    \n",
    "    \n"
   ]
  },
  {
   "cell_type": "code",
   "execution_count": 80,
   "metadata": {},
   "outputs": [],
   "source": [
    "os.chdir('/home/gabriel/Documentos/PSB_2018/eeg/b')\n",
    "RMS_B = [] \n",
    "VMR_B = []\n",
    "FMED_B = []\n",
    "FMOD_B = []\n",
    "FMEDIAN_B = []\n",
    "DELTA_B = []\n",
    "TETA_B = []\n",
    "ALFA_B = []\n",
    "BETA_B = []\n",
    "GAMA_B = []\n",
    "BANDA1_B = []\n",
    "BANDA2_B = []\n",
    "BANDA3_B = []\n",
    "BANDA4_B = []\n",
    "BANDA5_B = []\n",
    "BANDA6_B = []\n",
    "BANDA7_B = []\n",
    "BANDA8_B = []\n",
    "BANDA9_B = []\n",
    "BANDA10_B = []\n",
    "\n",
    "for i in range(101,201): \n",
    "    data = scipy.io.loadmat(\"x\"+str(i)+\".mat\")\n",
    "    y = data['x']\n",
    "    x = [row[0] for row in y]\n",
    "    fs_mat = data['fs']\n",
    "    fs = fs_mat[0][0]\n",
    "    \n",
    "    RMS_,VMR_,FMED_,FMOD_,FMEDIAN_ = parametros(x,5,2.5,fs,win = None)\n",
    "    RMS_B = np.append(RMS_B, RMS_) \n",
    "    VMR_B = np.append(VMR_B, VMR_)\n",
    "    FMED_B = np.append(FMED_B, FMED_)\n",
    "    FMOD_B = np.append(FMOD_B, FMOD_)\n",
    "    FMEDIAN_B = np.append(FMEDIAN_B, FMEDIAN_)\n",
    "    \n",
    "    DELTA_,TETA_,ALFA_,BETA_,GAMA_ = calcula_energia(x,fs,5,2.5)\n",
    "    DELTA_B = np.append(DELTA_B, DELTA_)\n",
    "    TETA_B = np.append(TETA_B, TETA_)\n",
    "    ALFA_B = np.append(ALFA_B, ALFA_)\n",
    "    BETA_B = np.append(BETA_B, BETA_)\n",
    "    GAMA_B = np.append(GAMA_B, GAMA_)\n",
    "    \n",
    "    BANDA1_,BANDA2_,BANDA3_,BANDA4_,BANDA5_,BANDA6_,BANDA7_,BANDA8_,BANDA9_,BANDA10_ = \\\n",
    "    calcula_energia_bandas_consecutivas(x,fs,5,2.5)\n",
    "        \n",
    "    BANDA1_B = np.append(BANDA1_B,BANDA1_)\n",
    "    BANDA2_B = np.append(BANDA2_B,BANDA2_)\n",
    "    BANDA3_B = np.append(BANDA3_B,BANDA3_)\n",
    "    BANDA4_B = np.append(BANDA4_B,BANDA4_)\n",
    "    BANDA5_B = np.append(BANDA5_B,BANDA5_)\n",
    "    BANDA6_B = np.append(BANDA6_B,BANDA6_)\n",
    "    BANDA7_B = np.append(BANDA7_B,BANDA7_)\n",
    "    BANDA8_B = np.append(BANDA8_B,BANDA8_)\n",
    "    BANDA9_B = np.append(BANDA9_B,BANDA9_)\n",
    "    BANDA10_B = np.append(BANDA10_B,BANDA10_)"
   ]
  },
  {
   "cell_type": "code",
   "execution_count": 81,
   "metadata": {},
   "outputs": [],
   "source": [
    "os.chdir('/home/gabriel/Documentos/PSB_2018/eeg/c')\n",
    "RMS_C = [] \n",
    "VMR_C = []\n",
    "FMED_C = []\n",
    "FMOD_C = []\n",
    "FMEDIAN_C = []\n",
    "DELTA_C = []\n",
    "TETA_C = []\n",
    "ALFA_C = []\n",
    "BETA_C = []\n",
    "GAMA_C = []\n",
    "BANDA1_C = []\n",
    "BANDA2_C = []\n",
    "BANDA3_C = []\n",
    "BANDA4_C = []\n",
    "BANDA5_C = []\n",
    "BANDA6_C = []\n",
    "BANDA7_C = []\n",
    "BANDA8_C = []\n",
    "BANDA9_C = []\n",
    "BANDA10_C = []\n",
    "\n",
    "for i in range(201,301): \n",
    "    data = scipy.io.loadmat(\"x\"+str(i)+\".mat\")\n",
    "    y = data['x']\n",
    "    x = [row[0] for row in y]\n",
    "    fs_mat = data['fs']\n",
    "    fs = fs_mat[0][0]\n",
    "    \n",
    "    RMS_,VMR_,FMED_,FMOD_,FMEDIAN_ = parametros(x,5,2.5,fs,win = None)\n",
    "    RMS_C = np.append(RMS_C, RMS_) \n",
    "    VMR_C = np.append(VMR_C, VMR_)\n",
    "    FMED_C = np.append(FMED_C, FMED_)\n",
    "    FMOD_C = np.append(FMOD_C, FMOD_)\n",
    "    FMEDIAN_C = np.append(FMEDIAN_C, FMEDIAN_)\n",
    "    \n",
    "    DELTA_,TETA_,ALFA_,BETA_,GAMA_ = calcula_energia(x,fs,5,2.5)\n",
    "    DELTA_C = np.append(DELTA_C, DELTA_)\n",
    "    TETA_C = np.append(TETA_C, TETA_)\n",
    "    ALFA_C = np.append(ALFA_C, ALFA_)\n",
    "    BETA_C = np.append(BETA_C, BETA_)\n",
    "    GAMA_C = np.append(GAMA_C, GAMA_)\n",
    "    \n",
    "    BANDA1_,BANDA2_,BANDA3_,BANDA4_,BANDA5_,BANDA6_,BANDA7_,BANDA8_,BANDA9_,BANDA10_ = \\\n",
    "    calcula_energia_bandas_consecutivas(x,fs,5,2.5)\n",
    "        \n",
    "    BANDA1_C = np.append(BANDA1_C,BANDA1_)\n",
    "    BANDA2_C = np.append(BANDA2_C,BANDA2_)\n",
    "    BANDA3_C = np.append(BANDA3_C,BANDA3_)\n",
    "    BANDA4_C = np.append(BANDA4_C,BANDA4_)\n",
    "    BANDA5_C = np.append(BANDA5_C,BANDA5_)\n",
    "    BANDA6_C = np.append(BANDA6_C,BANDA6_)\n",
    "    BANDA7_C = np.append(BANDA7_C,BANDA7_)\n",
    "    BANDA8_C = np.append(BANDA8_C,BANDA8_)\n",
    "    BANDA9_C = np.append(BANDA9_C,BANDA9_)\n",
    "    BANDA10_C = np.append(BANDA10_C,BANDA10_)"
   ]
  },
  {
   "cell_type": "code",
   "execution_count": 82,
   "metadata": {},
   "outputs": [],
   "source": [
    "os.chdir('/home/gabriel/Documentos/PSB_2018/eeg/d')\n",
    "RMS_D = [] \n",
    "VMR_D = []\n",
    "FMED_D = []\n",
    "FMOD_D = []\n",
    "FMEDIAN_D = []\n",
    "DELTA_D = []\n",
    "TETA_D = []\n",
    "ALFA_D = []\n",
    "BETA_D = []\n",
    "GAMA_D = []\n",
    "BANDA1_D = []\n",
    "BANDA2_D = []\n",
    "BANDA3_D = []\n",
    "BANDA4_D = []\n",
    "BANDA5_D = []\n",
    "BANDA6_D = []\n",
    "BANDA7_D = []\n",
    "BANDA8_D = []\n",
    "BANDA9_D = []\n",
    "BANDA10_D = []\n",
    "\n",
    "for i in range(301,401): \n",
    "    data = scipy.io.loadmat(\"x\"+str(i)+\".mat\")\n",
    "    y = data['x']\n",
    "    x = [row[0] for row in y]\n",
    "    fs_mat = data['fs']\n",
    "    fs = fs_mat[0][0]\n",
    "    \n",
    "    RMS_,VMR_,FMED_,FMOD_,FMEDIAN_ = parametros(x,5,2.5,fs,win = None)\n",
    "    RMS_D = np.append(RMS_D, RMS_) \n",
    "    VMR_D = np.append(VMR_D, VMR_)\n",
    "    FMED_D = np.append(FMED_D, FMED_)\n",
    "    FMOD_D = np.append(FMOD_D, FMOD_)\n",
    "    FMEDIAN_D = np.append(FMEDIAN_D, FMEDIAN_)\n",
    "    \n",
    "    DELTA_,TETA_,ALFA_,BETA_,GAMA_ = calcula_energia(x,fs,5,2.5)\n",
    "    DELTA_D = np.append(DELTA_D, DELTA_)\n",
    "    TETA_D = np.append(TETA_D, TETA_)\n",
    "    ALFA_D = np.append(ALFA_D, ALFA_)\n",
    "    BETA_D = np.append(BETA_D, BETA_)\n",
    "    GAMA_D = np.append(GAMA_D, GAMA_)\n",
    "    \n",
    "    BANDA1_,BANDA2_,BANDA3_,BANDA4_,BANDA5_,BANDA6_,BANDA7_,BANDA8_,BANDA9_,BANDA10_ = \\\n",
    "    calcula_energia_bandas_consecutivas(x,fs,5,2.5)\n",
    "        \n",
    "    BANDA1_D = np.append(BANDA1_D,BANDA1_)\n",
    "    BANDA2_D = np.append(BANDA2_D,BANDA2_)\n",
    "    BANDA3_D = np.append(BANDA3_D,BANDA3_)\n",
    "    BANDA4_D = np.append(BANDA4_D,BANDA4_)\n",
    "    BANDA5_D = np.append(BANDA5_D,BANDA5_)\n",
    "    BANDA6_D = np.append(BANDA6_D,BANDA6_)\n",
    "    BANDA7_D = np.append(BANDA7_D,BANDA7_)\n",
    "    BANDA8_D = np.append(BANDA8_D,BANDA8_)\n",
    "    BANDA9_D = np.append(BANDA9_D,BANDA9_)\n",
    "    BANDA10_D = np.append(BANDA10_D,BANDA10_)"
   ]
  },
  {
   "cell_type": "code",
   "execution_count": 83,
   "metadata": {},
   "outputs": [],
   "source": [
    "os.chdir('/home/gabriel/Documentos/PSB_2018/eeg/e')\n",
    "RMS_E = [] \n",
    "VMR_E = []\n",
    "FMED_E = []\n",
    "FMOD_E = []\n",
    "FMEDIAN_E = []\n",
    "DELTA_E = []\n",
    "TETA_E = []\n",
    "ALFA_E = []\n",
    "BETA_E = []\n",
    "GAMA_E = []\n",
    "BANDA1_E = []\n",
    "BANDA2_E = []\n",
    "BANDA3_E = []\n",
    "BANDA4_E = []\n",
    "BANDA5_E = []\n",
    "BANDA6_E = []\n",
    "BANDA7_E = []\n",
    "BANDA8_E = []\n",
    "BANDA9_E = []\n",
    "BANDA10_E = []\n",
    "\n",
    "for i in range(401,501): \n",
    "    data = scipy.io.loadmat(\"x\"+str(i)+\".mat\")\n",
    "    y = data['x']\n",
    "    x = [row[0] for row in y]\n",
    "    fs_mat = data['fs']\n",
    "    fs = fs_mat[0][0]\n",
    "    \n",
    "    RMS_,VMR_,FMED_,FMOD_,FMEDIAN_ = parametros(x,5,2.5,fs,win = None)\n",
    "    RMS_E = np.append(RMS_E, RMS_) \n",
    "    VMR_E = np.append(VMR_E, VMR_)\n",
    "    FMED_E = np.append(FMED_E, FMED_)\n",
    "    FMOD_E = np.append(FMOD_E, FMOD_)\n",
    "    FMEDIAN_E = np.append(FMEDIAN_E, FMEDIAN_)\n",
    "    \n",
    "    DELTA_,TETA_,ALFA_,BETA_,GAMA_ = calcula_energia(x,fs,5,2.5)\n",
    "    DELTA_E = np.append(DELTA_E, DELTA_)\n",
    "    TETA_E = np.append(TETA_E, TETA_)\n",
    "    ALFA_E = np.append(ALFA_E, ALFA_)\n",
    "    BETA_E = np.append(BETA_E, BETA_)\n",
    "    GAMA_E = np.append(GAMA_E, GAMA_)\n",
    "    \n",
    "    BANDA1_,BANDA2_,BANDA3_,BANDA4_,BANDA5_,BANDA6_,BANDA7_,BANDA8_,BANDA9_,BANDA10_ = \\\n",
    "    calcula_energia_bandas_consecutivas(x,fs,5,2.5)\n",
    "        \n",
    "    BANDA1_E = np.append(BANDA1_E,BANDA1_)\n",
    "    BANDA2_E = np.append(BANDA2_E,BANDA2_)\n",
    "    BANDA3_E = np.append(BANDA3_E,BANDA3_)\n",
    "    BANDA4_E = np.append(BANDA4_E,BANDA4_)\n",
    "    BANDA5_E = np.append(BANDA5_E,BANDA5_)\n",
    "    BANDA6_E = np.append(BANDA6_E,BANDA6_)\n",
    "    BANDA7_E = np.append(BANDA7_E,BANDA7_)\n",
    "    BANDA8_E = np.append(BANDA8_E,BANDA8_)\n",
    "    BANDA9_E = np.append(BANDA9_E,BANDA9_)\n",
    "    BANDA10_E = np.append(BANDA10_E,BANDA10_)"
   ]
  },
  {
   "cell_type": "markdown",
   "metadata": {},
   "source": [
    "# 1 - Identificar participantes que não apresentam quadro de epilepsia"
   ]
  },
  {
   "cell_type": "markdown",
   "metadata": {},
   "source": [
    "## Hipótese alternativa 1: sinais do grupo A possuem mais energia na BANDA1 que os sinais C,D e E"
   ]
  },
  {
   "cell_type": "markdown",
   "metadata": {},
   "source": [
    "### Teste de normalidade dos sinais"
   ]
  },
  {
   "cell_type": "code",
   "execution_count": 94,
   "metadata": {},
   "outputs": [
    {
     "data": {
      "text/plain": [
       "0.9384085536003113"
      ]
     },
     "execution_count": 94,
     "metadata": {},
     "output_type": "execute_result"
    }
   ],
   "source": [
    "p,a = scipy.stats.shapiro(BANDA1_A)\n",
    "p"
   ]
  },
  {
   "cell_type": "markdown",
   "metadata": {},
   "source": [
    "### Considerando um alpha de 0.05, o teste não rejeitou a hipótese nula, dessa forma utilizar um teste não paramétrico"
   ]
  },
  {
   "cell_type": "code",
   "execution_count": 96,
   "metadata": {},
   "outputs": [
    {
     "data": {
      "text/plain": [
       "RanksumsResult(statistic=34.525439562942076, pvalue=3.331410576821401e-261)"
      ]
     },
     "execution_count": 96,
     "metadata": {},
     "output_type": "execute_result"
    }
   ],
   "source": [
    "p = scipy.stats.ranksums(BANDA1_A, BANDA1_C)\n",
    "p"
   ]
  },
  {
   "cell_type": "code",
   "execution_count": 97,
   "metadata": {},
   "outputs": [
    {
     "data": {
      "text/plain": [
       "RanksumsResult(statistic=28.53647183916271, pvalue=4.1347238435079335e-179)"
      ]
     },
     "execution_count": 97,
     "metadata": {},
     "output_type": "execute_result"
    }
   ],
   "source": [
    "p = scipy.stats.ranksums(BANDA1_A, BANDA1_D)\n",
    "p"
   ]
  },
  {
   "cell_type": "code",
   "execution_count": 98,
   "metadata": {},
   "outputs": [
    {
     "data": {
      "text/plain": [
       "RanksumsResult(statistic=32.61266233597111, pvalue=2.7129167589212394e-233)"
      ]
     },
     "execution_count": 98,
     "metadata": {},
     "output_type": "execute_result"
    }
   ],
   "source": [
    "p = scipy.stats.ranksums(BANDA1_A, BANDA1_E)\n",
    "p"
   ]
  },
  {
   "cell_type": "markdown",
   "metadata": {},
   "source": [
    "### Os testes rejeitaram a hipótese nula"
   ]
  },
  {
   "cell_type": "markdown",
   "metadata": {},
   "source": [
    "## Hipótese alternativa 2: Frequência média dos grupos C,D e E superiores ao grupo A"
   ]
  },
  {
   "cell_type": "code",
   "execution_count": 101,
   "metadata": {},
   "outputs": [
    {
     "data": {
      "text/plain": [
       "0.9855228066444397"
      ]
     },
     "execution_count": 101,
     "metadata": {},
     "output_type": "execute_result"
    }
   ],
   "source": [
    "p,a = scipy.stats.shapiro(FMED_A)\n",
    "p"
   ]
  },
  {
   "cell_type": "code",
   "execution_count": 102,
   "metadata": {},
   "outputs": [
    {
     "data": {
      "text/plain": [
       "0.9612719416618347"
      ]
     },
     "execution_count": 102,
     "metadata": {},
     "output_type": "execute_result"
    }
   ],
   "source": [
    "p,a = scipy.stats.shapiro(FMED_C)\n",
    "p"
   ]
  },
  {
   "cell_type": "code",
   "execution_count": 103,
   "metadata": {},
   "outputs": [
    {
     "data": {
      "text/plain": [
       "0.9700703024864197"
      ]
     },
     "execution_count": 103,
     "metadata": {},
     "output_type": "execute_result"
    }
   ],
   "source": [
    "p,a = scipy.stats.shapiro(FMED_D)\n",
    "p"
   ]
  },
  {
   "cell_type": "code",
   "execution_count": 104,
   "metadata": {},
   "outputs": [
    {
     "data": {
      "text/plain": [
       "0.9767362475395203"
      ]
     },
     "execution_count": 104,
     "metadata": {},
     "output_type": "execute_result"
    }
   ],
   "source": [
    "p,a = scipy.stats.shapiro(FMED_E)\n",
    "p"
   ]
  },
  {
   "cell_type": "markdown",
   "metadata": {},
   "source": [
    "## Considerando um alfa de 0.05, nenhum dos testes rejeitou a hipótese nula de que os dados foram extraídos de uma distribuição normal. Utilzando então um teste paramétrico (t-Student)"
   ]
  },
  {
   "cell_type": "code",
   "execution_count": 107,
   "metadata": {},
   "outputs": [
    {
     "data": {
      "text/plain": [
       "0.0"
      ]
     },
     "execution_count": 107,
     "metadata": {},
     "output_type": "execute_result"
    }
   ],
   "source": [
    "t,p = scipy.stats.ttest_ind(FMED_A,FMED_C)\n",
    "p"
   ]
  },
  {
   "cell_type": "code",
   "execution_count": 109,
   "metadata": {},
   "outputs": [
    {
     "data": {
      "text/plain": [
       "8.689732785219432e-222"
      ]
     },
     "execution_count": 109,
     "metadata": {},
     "output_type": "execute_result"
    }
   ],
   "source": [
    "t,p = scipy.stats.ttest_ind(FMED_A,FMED_D)\n",
    "p"
   ]
  },
  {
   "cell_type": "code",
   "execution_count": 110,
   "metadata": {},
   "outputs": [
    {
     "data": {
      "text/plain": [
       "3.801874019059368e-240"
      ]
     },
     "execution_count": 110,
     "metadata": {},
     "output_type": "execute_result"
    }
   ],
   "source": [
    "t,p = scipy.stats.ttest_ind(FMED_A,FMED_E)\n",
    "p"
   ]
  },
  {
   "cell_type": "markdown",
   "metadata": {},
   "source": [
    "# Resultado - Considerando um alfa de 0.05 a hipótese nula foi rejeitada em todos os testes."
   ]
  },
  {
   "cell_type": "markdown",
   "metadata": {},
   "source": [
    "# 2 - Identificar participantes onde os sinais foram adquiridos com os olhos abertos."
   ]
  },
  {
   "cell_type": "markdown",
   "metadata": {},
   "source": [
    "### Hipótese alternativa 1 - Os participantes do grupo A possuem no sinal de EEG maior concentração de energia na banda Delta"
   ]
  },
  {
   "cell_type": "markdown",
   "metadata": {},
   "source": [
    "### teste de normalidade\n"
   ]
  },
  {
   "cell_type": "code",
   "execution_count": 113,
   "metadata": {},
   "outputs": [
    {
     "data": {
      "text/plain": [
       "0.9724797606468201"
      ]
     },
     "execution_count": 113,
     "metadata": {},
     "output_type": "execute_result"
    }
   ],
   "source": [
    "p,a = scipy.stats.shapiro(DELTA_A)\n",
    "p"
   ]
  },
  {
   "cell_type": "code",
   "execution_count": 114,
   "metadata": {},
   "outputs": [
    {
     "data": {
      "text/plain": [
       "0.9312717914581299"
      ]
     },
     "execution_count": 114,
     "metadata": {},
     "output_type": "execute_result"
    }
   ],
   "source": [
    "p,a = scipy.stats.shapiro(DELTA_C)\n",
    "p"
   ]
  },
  {
   "cell_type": "markdown",
   "metadata": {},
   "source": [
    "### Considerando um alpha de 0.05, o teste para a amostra DELTA_C não rejeitou a hipótese nula, dessa forma utilizar um teste não paramétrico"
   ]
  },
  {
   "cell_type": "code",
   "execution_count": 115,
   "metadata": {},
   "outputs": [
    {
     "data": {
      "text/plain": [
       "RanksumsResult(statistic=32.459748377175636, pvalue=3.946326358625924e-231)"
      ]
     },
     "execution_count": 115,
     "metadata": {},
     "output_type": "execute_result"
    }
   ],
   "source": [
    "p = scipy.stats.ranksums(DELTA_A, DELTA_C)\n",
    "p"
   ]
  },
  {
   "cell_type": "markdown",
   "metadata": {},
   "source": [
    "## Hipótese alternativa 2 - Os participantes do grupo A possui maior energia na segunda banda consecutiva comparado ao grupo B"
   ]
  },
  {
   "cell_type": "markdown",
   "metadata": {},
   "source": [
    "### Teste de normalidade"
   ]
  },
  {
   "cell_type": "code",
   "execution_count": 116,
   "metadata": {},
   "outputs": [
    {
     "data": {
      "text/plain": [
       "0.9230820536613464"
      ]
     },
     "execution_count": 116,
     "metadata": {},
     "output_type": "execute_result"
    }
   ],
   "source": [
    "p,a = scipy.stats.shapiro(BANDA2_A)\n",
    "p"
   ]
  },
  {
   "cell_type": "code",
   "execution_count": 117,
   "metadata": {},
   "outputs": [
    {
     "data": {
      "text/plain": [
       "0.9420458078384399"
      ]
     },
     "execution_count": 117,
     "metadata": {},
     "output_type": "execute_result"
    }
   ],
   "source": [
    "p,a = scipy.stats.shapiro(BANDA2_B)\n",
    "p"
   ]
  },
  {
   "cell_type": "markdown",
   "metadata": {},
   "source": [
    "### Considerando um alpha de 0.05, o teste para as amostra  não rejeitou a hipótese nula, dessa forma utilizar um teste não paramétrico"
   ]
  },
  {
   "cell_type": "code",
   "execution_count": 118,
   "metadata": {},
   "outputs": [
    {
     "data": {
      "text/plain": [
       "RanksumsResult(statistic=6.216444823133985, pvalue=5.085450909432012e-10)"
      ]
     },
     "execution_count": 118,
     "metadata": {},
     "output_type": "execute_result"
    }
   ],
   "source": [
    "p = scipy.stats.ranksums(BANDA2_A, BANDA2_B)\n",
    "p"
   ]
  },
  {
   "cell_type": "markdown",
   "metadata": {},
   "source": [
    "# Resultado - Considerando um alfa de 0.05 a hipótese nula foi rejeitada."
   ]
  },
  {
   "cell_type": "markdown",
   "metadata": {},
   "source": [
    "# 3 - Identificar participantes onde os sinais foram adquiridos na zona epileptogênica.\n"
   ]
  },
  {
   "cell_type": "markdown",
   "metadata": {},
   "source": [
    "### Hipótese alternativa 1 - Os participantes do grupo D possuem maior valor RMS que os participantes do grupo C"
   ]
  },
  {
   "cell_type": "markdown",
   "metadata": {},
   "source": [
    "### Teste de normalidade"
   ]
  },
  {
   "cell_type": "code",
   "execution_count": 120,
   "metadata": {},
   "outputs": [
    {
     "data": {
      "text/plain": [
       "0.9425197243690491"
      ]
     },
     "execution_count": 120,
     "metadata": {},
     "output_type": "execute_result"
    }
   ],
   "source": [
    "p,a = scipy.stats.shapiro(RMS_D)\n",
    "p"
   ]
  },
  {
   "cell_type": "code",
   "execution_count": 121,
   "metadata": {},
   "outputs": [
    {
     "data": {
      "text/plain": [
       "0.9343847632408142"
      ]
     },
     "execution_count": 121,
     "metadata": {},
     "output_type": "execute_result"
    }
   ],
   "source": [
    "p,a = scipy.stats.shapiro(RMS_C)\n",
    "p"
   ]
  },
  {
   "cell_type": "markdown",
   "metadata": {},
   "source": [
    "### Considerando um alpha de 0.05, o teste para as amostra  não rejeitou a hipótese nula, dessa forma utilizar um teste não paramétrico"
   ]
  },
  {
   "cell_type": "code",
   "execution_count": 122,
   "metadata": {},
   "outputs": [
    {
     "data": {
      "text/plain": [
       "RanksumsResult(statistic=34.421332536501, pvalue=1.2094457584343503e-259)"
      ]
     },
     "execution_count": 122,
     "metadata": {},
     "output_type": "execute_result"
    }
   ],
   "source": [
    "p = scipy.stats.ranksums(RMS_D, RMS_C)\n",
    "p"
   ]
  },
  {
   "cell_type": "markdown",
   "metadata": {},
   "source": [
    "# Resultado - Considerando um alfa de 0.05 a hipótese nula foi rejeitada."
   ]
  },
  {
   "cell_type": "markdown",
   "metadata": {},
   "source": [
    "# 4 -  Identificar entre aqueles que possuem quadro de epilepsia, os sinais proveniente do grupo em que os sinais foram adquiridos durante convulsões"
   ]
  },
  {
   "cell_type": "markdown",
   "metadata": {},
   "source": [
    "## Hipótese alternativa 1 - Os participantes do grupo E possui maior energia na BANDA 1 que os sinais C e D"
   ]
  },
  {
   "cell_type": "markdown",
   "metadata": {},
   "source": [
    "### Teste de Normalidade"
   ]
  },
  {
   "cell_type": "code",
   "execution_count": 123,
   "metadata": {},
   "outputs": [
    {
     "data": {
      "text/plain": [
       "0.9943946599960327"
      ]
     },
     "execution_count": 123,
     "metadata": {},
     "output_type": "execute_result"
    }
   ],
   "source": [
    "p,a = scipy.stats.shapiro(BANDA1_E)\n",
    "p"
   ]
  },
  {
   "cell_type": "code",
   "execution_count": 124,
   "metadata": {},
   "outputs": [
    {
     "data": {
      "text/plain": [
       "0.9845269918441772"
      ]
     },
     "execution_count": 124,
     "metadata": {},
     "output_type": "execute_result"
    }
   ],
   "source": [
    "p,a = scipy.stats.shapiro(BANDA1_C)\n",
    "p"
   ]
  },
  {
   "cell_type": "code",
   "execution_count": 125,
   "metadata": {},
   "outputs": [
    {
     "data": {
      "text/plain": [
       "0.9156437516212463"
      ]
     },
     "execution_count": 125,
     "metadata": {},
     "output_type": "execute_result"
    }
   ],
   "source": [
    "p,a = scipy.stats.shapiro(BANDA1_D)\n",
    "p"
   ]
  },
  {
   "cell_type": "markdown",
   "metadata": {},
   "source": [
    "## Utilizar um teste não paramétrico entre as amostras E e D"
   ]
  },
  {
   "cell_type": "code",
   "execution_count": 126,
   "metadata": {},
   "outputs": [
    {
     "data": {
      "text/plain": [
       "4.499519517209845e-230"
      ]
     },
     "execution_count": 126,
     "metadata": {},
     "output_type": "execute_result"
    }
   ],
   "source": [
    "t,p = scipy.stats.ttest_ind(BANDA1_E, BANDA1_C)\n",
    "p"
   ]
  },
  {
   "cell_type": "code",
   "execution_count": 129,
   "metadata": {},
   "outputs": [
    {
     "data": {
      "text/plain": [
       "RanksumsResult(statistic=-9.036424963468324, pvalue=1.618794025578888e-19)"
      ]
     },
     "execution_count": 129,
     "metadata": {},
     "output_type": "execute_result"
    }
   ],
   "source": [
    "p = scipy.stats.ranksums(BANDA1_E, BANDA1_D)\n",
    "p"
   ]
  },
  {
   "cell_type": "markdown",
   "metadata": {},
   "source": [
    "# Resultado - Considerando um alfa de 0.05 a hipótese nula foi rejeitada."
   ]
  }
 ],
 "metadata": {
  "kernelspec": {
   "display_name": "Python 3",
   "language": "python",
   "name": "python3"
  },
  "language_info": {
   "codemirror_mode": {
    "name": "ipython",
    "version": 3
   },
   "file_extension": ".py",
   "mimetype": "text/x-python",
   "name": "python",
   "nbconvert_exporter": "python",
   "pygments_lexer": "ipython3",
   "version": "3.6.3"
  }
 },
 "nbformat": 4,
 "nbformat_minor": 2
}
