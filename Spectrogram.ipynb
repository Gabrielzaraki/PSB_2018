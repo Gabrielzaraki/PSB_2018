{
 "cells": [
  {
   "cell_type": "markdown",
   "metadata": {},
   "source": [
    "## Código Spectrograma"
   ]
  },
  {
   "cell_type": "code",
   "execution_count": 257,
   "metadata": {},
   "outputs": [],
   "source": [
    "import numpy as np\n",
    "from pylab import *\n",
    "import scipy.io\n",
    "import matplotlib.pyplot as plt\n",
    "from scipy import signal\n",
    "from scipy.signal import chirp"
   ]
  },
  {
   "cell_type": "markdown",
   "metadata": {},
   "source": [
    "Função para recolher as janelas"
   ]
  },
  {
   "cell_type": "code",
   "execution_count": 373,
   "metadata": {},
   "outputs": [],
   "source": [
    "def cria_matriz(sinal, janela, passo):\n",
    "    init = 0\n",
    "    M = []\n",
    "    a = 0\n",
    "    win = np.hamming(janela)\n",
    "    \n",
    "    while True:   \n",
    "        amostras = sinal[init:(init + janela)]\n",
    "        if(len(amostras) == janela): \n",
    "            amostras = amostras[::-1]\n",
    "            amostras = abs(np.fft.fftshift(np.fft.fft(amostras * win)))\n",
    "            M = np.append(M,amostras)\n",
    "            init += passo\n",
    "            a += 1\n",
    "            test = len(amostras)\n",
    "        else:\n",
    "            break\n",
    "            \n",
    "    M = M.reshape((a),janela).T\n",
    "    linhas, colunas = M.shape\n",
    "    linhas = int(np.ceil(linhas/2))\n",
    "    final_matrix = M[0:linhas, 0:colunas]\n",
    "   \n",
    "    \n",
    "    return final_matrix\n",
    "    "
   ]
  },
  {
   "cell_type": "code",
   "execution_count": null,
   "metadata": {},
   "outputs": [],
   "source": [
    "Declarando um sinal senoidal e um chirp"
   ]
  },
  {
   "cell_type": "code",
   "execution_count": 379,
   "metadata": {},
   "outputs": [],
   "source": [
    "T = 5\n",
    "n = 100000\n",
    "t = np.linspace(0, T, n, endpoint=False)\n",
    "f0 = 100\n",
    "f1 = 10000\n",
    "y = chirp(t, f0, T, f1, method='linear')\n",
    "w = np.sin(2*pi*2000*t)"
   ]
  },
  {
   "cell_type": "code",
   "execution_count": 380,
   "metadata": {},
   "outputs": [],
   "source": [
    "A = cria_matriz(y,500,250)\n",
    "B = cria_matriz(w,500,250)"
   ]
  },
  {
   "cell_type": "markdown",
   "metadata": {},
   "source": [
    "Espectrograma do sinal Chirp"
   ]
  },
  {
   "cell_type": "code",
   "execution_count": 389,
   "metadata": {},
   "outputs": [
    {
     "data": {
      "image/png": "[encoded data removed]",
      "text/plain": [
       "<Figure size 459.648x288 with 1 Axes>"
      ]
     },
     "metadata": {},
     "output_type": "display_data"
    }
   ],
   "source": [
    "spec = matshow(A,cmap='gray',interpolation='bilinear')\n",
    "plt.savefig('fig1.png')"
   ]
  },
  {
   "cell_type": "markdown",
   "metadata": {},
   "source": [
    "Espectrograma sinal Senoidal"
   ]
  },
  {
   "cell_type": "code",
   "execution_count": 388,
   "metadata": {},
   "outputs": [
    {
     "data": {
      "text/plain": [
       "<Figure size 432x288 with 0 Axes>"
      ]
     },
     "metadata": {},
     "output_type": "display_data"
    }
   ],
   "source": [
    "savefig('spec-chirp.png')"
   ]
  },
  {
   "cell_type": "code",
   "execution_count": 384,
   "metadata": {},
   "outputs": [
    {
     "data": {
      "text/plain": [
       "<matplotlib.image.AxesImage at 0x7f7af3bf54a8>"
      ]
     },
     "execution_count": 384,
     "metadata": {},
     "output_type": "execute_result"
    },
    {
     "data": {
      "image/png": "[encoded data removed]",
      "text/plain": [
       "<Figure size 459.648x288 with 1 Axes>"
      ]
     },
     "metadata": {},
     "output_type": "display_data"
    }
   ],
   "source": [
    "matshow(B,cmap='gray',interpolation='bilinear')"
   ]
  },
  {
   "cell_type": "code",
   "execution_count": null,
   "metadata": {},
   "outputs": [],
   "source": []
  }
 ],
 "metadata": {
  "kernelspec": {
   "display_name": "Python 3",
   "language": "python",
   "name": "python3"
  },
  "language_info": {
   "codemirror_mode": {
    "name": "ipython",
    "version": 3
   },
   "file_extension": ".py",
   "mimetype": "text/x-python",
   "name": "python",
   "nbconvert_exporter": "python",
   "pygments_lexer": "ipython3",
   "version": "3.6.3"
  }
 },
 "nbformat": 4,
 "nbformat_minor": 2
}
