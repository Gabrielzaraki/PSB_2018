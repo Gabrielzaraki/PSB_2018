{
 "cells": [
  {
   "cell_type": "markdown",
   "metadata": {},
   "source": [
    "## Levantamento de características\n"
   ]
  },
  {
   "cell_type": "code",
   "execution_count": 9,
   "metadata": {},
   "outputs": [],
   "source": [
    "import numpy as np\n",
    "import matplotlib.pyplot as plt\n",
    "from scipy.signal import chirp\n",
    "plt.rcParams['figure.figsize'] = [10, 5]\n",
    "import mpld3\n",
    "mpld3.enable_notebook()\n",
    "pi = 3.1415926\n"
   ]
  },
  {
   "cell_type": "code",
   "execution_count": 5,
   "metadata": {},
   "outputs": [],
   "source": [
    "def mean_frequency(x,fs):\n",
    "    sinal = np.fft.fft(x)\n",
    "    sinal = sinal[0:int(len(x)/2)]\n",
    "    sinal = np.abs(np.power(sinal,2))\n",
    "    k = list(range(0,len(sinal),1))\n",
    "    kmed = np.sum(np.multiply(k,np.abs(sinal)))/ np.sum(np.abs(sinal))\n",
    "    f = kmed * fs/ len(sinal)\n",
    "    return f\n",
    "    \n",
    "def modal_frequency(x,fs):\n",
    "    sinal = np.fft.fft(x)\n",
    "    sinal = sinal[0:int(len(x)/2)]\n",
    "    sinal = np.abs(np.power(sinal,2)) \n",
    "    k = np.argmax(sinal)\n",
    "    f = k * fs / len(sinal)\n",
    "    return k\n",
    "\n",
    "def median_frequency(x,fs):\n",
    "    sinal = np.fft.fft(x)\n",
    "    sinal = sinal[0:int(len(x)/2)]\n",
    "    sinal_to_energy = np.abs(np.power(sinal,2))\n",
    "    energy = np.sum(sinal_to_energy)\n",
    "    \n",
    "    i = 0\n",
    "    \n",
    "    while True:\n",
    "        sinal_varrido = sinal[0:i]\n",
    "        energy_calculated = np.sum(np.abs(np.power(sinal_varrido,2)))\n",
    "        if (energy_calculated >= energy/2):\n",
    "            \n",
    "            break\n",
    "        else:\n",
    "            i += 1\n",
    "           \n",
    "    f = i * fs / len(sinal)    \n",
    "    return f\n",
    "            \n",
    "    \n",
    "def parametros(sinal,janela,passo,fs,win = None):\n",
    "    #### Escolha da janela\n",
    "    sinal = sinal - np.mean(sinal)\n",
    "    janela = int(fs * janela) \n",
    "    passo = int(fs * passo)\n",
    "    \n",
    "    \n",
    "    if (win == None):\n",
    "        win = np.hamming(janela)\n",
    "    elif (win == 'Hamming' or win == 'hamming'):\n",
    "        win = np.hamming(janela)\n",
    "    elif (win == 'Hanning' or win == 'hanning'):\n",
    "        win = np.hanning(janela)\n",
    "    elif (win == 'Blackman' or win == 'blackman'):\n",
    "        win = np.blackman(janela) \n",
    "    elif (win == 'Bartlett' or win == 'bartlett'):\n",
    "        win = np.bartlett(janela)     \n",
    "    else: \n",
    "        return print('Erro: Janela não especificada')\n",
    "    \n",
    "    ####Separando em janelas\n",
    "        \n",
    "        \n",
    "    init = 0\n",
    "    RMS = []\n",
    "    VMR = []\n",
    "    FMED = []\n",
    "    KMOD = []\n",
    "    KMEDIAN = []\n",
    "    \n",
    "    while True:   \n",
    "        amostras = sinal[init:((init + janela))]\n",
    "        if(len(amostras) == janela):\n",
    "            \n",
    "            Nj = len(amostras)\n",
    "            \n",
    "            ### medidas temporais\n",
    "            \n",
    "            ### RMS\n",
    "            rms = np.sqrt((np.sum(abs(np.power(amostras,2)))/Nj))\n",
    "            RMS = np.append(RMS,rms)\n",
    "            \n",
    "            ### VMR\n",
    "            \n",
    "            vmr = abs(np.sum(amostras))/Nj\n",
    "            VMR = np.append(VMR,vmr)\n",
    "            \n",
    "            amostras = np.multiply(amostras,win)     \n",
    "                    \n",
    "            ### frequência média           \n",
    "            \n",
    "            kmed = mean_frequency(amostras,fs)\n",
    "            FMED = np.append(FMED,kmed)  \n",
    "            \n",
    "            ### frequência modal\n",
    "            \n",
    "            kmod = modal_frequency(amostras,fs)\n",
    "            KMOD = np.append(KMOD,kmod)\n",
    "            \n",
    "            ### frequência mediana\n",
    "            \n",
    "            kmedian = median_frequency(amostras,fs)\n",
    "            KMEDIAN = np.append(KMEDIAN,kmedian)\n",
    "            \n",
    "            init += passo\n",
    "    \n",
    "        else:\n",
    "            break\n",
    "    \n",
    "    return RMS,VMR,FMED,KMOD,KMEDIAN"
   ]
  },
  {
   "cell_type": "code",
   "execution_count": 6,
   "metadata": {},
   "outputs": [],
   "source": [
    "t = np.linspace(0,100,2000*100)\n",
    "A = 311*np.sin(2*pi*100*t)"
   ]
  },
  {
   "cell_type": "code",
   "execution_count": 7,
   "metadata": {},
   "outputs": [],
   "source": [
    "a,b,c,d,e = parametros(A,1,0.5,2000,'Hamming')"
   ]
  },
  {
   "cell_type": "code",
   "execution_count": 8,
   "metadata": {},
   "outputs": [
    {
     "data": {
      "text/plain": [
       "array([219.90967866, 219.90967813, 219.9096776 , 219.90967708,\n",
       "       219.90967656, 219.90967605, 219.90967555, 219.90967505,\n",
       "       219.90967456, 219.90967407, 219.90967358, 219.9096731 ,\n",
       "       219.90967263, 219.90967216, 219.9096717 , 219.90967124,\n",
       "       219.90967079, 219.90967034, 219.9096699 , 219.90966946,\n",
       "       219.90966903, 219.9096686 , 219.90966818, 219.90966777,\n",
       "       219.90966736, 219.90966695, 219.90966655, 219.90966616,\n",
       "       219.90966577, 219.90966539, 219.90966501, 219.90966463,\n",
       "       219.90966427, 219.9096639 , 219.90966355, 219.9096632 ,\n",
       "       219.90966285, 219.90966251, 219.90966217, 219.90966184,\n",
       "       219.90966152, 219.9096612 , 219.90966088, 219.90966058,\n",
       "       219.90966027, 219.90965997, 219.90965968, 219.90965939,\n",
       "       219.90965911, 219.90965884, 219.90965857, 219.9096583 ,\n",
       "       219.90965804, 219.90965778, 219.90965754, 219.90965729,\n",
       "       219.90965705, 219.90965682, 219.90965659, 219.90965637,\n",
       "       219.90965615, 219.90965594, 219.90965573, 219.90965553,\n",
       "       219.90965534, 219.90965515, 219.90965496, 219.90965479,\n",
       "       219.90965461, 219.90965444, 219.90965428, 219.90965412,\n",
       "       219.90965397, 219.90965383, 219.90965368, 219.90965355,\n",
       "       219.90965342, 219.90965329, 219.90965317, 219.90965306,\n",
       "       219.90965295, 219.90965285, 219.90965275, 219.90965266,\n",
       "       219.90965257, 219.90965249, 219.90965242, 219.90965235,\n",
       "       219.90965228, 219.90965222, 219.90965217, 219.90965212,\n",
       "       219.90965208, 219.90965204, 219.90965201, 219.90965198,\n",
       "       219.90965196, 219.90965195, 219.90965194, 219.90965193,\n",
       "       219.90965193, 219.90965194, 219.90965195, 219.90965197,\n",
       "       219.90965199, 219.90965202, 219.90965205, 219.90965209,\n",
       "       219.90965214, 219.90965219, 219.90965224, 219.9096523 ,\n",
       "       219.90965237, 219.90965244, 219.90965252, 219.9096526 ,\n",
       "       219.90965269, 219.90965278, 219.90965288, 219.90965299,\n",
       "       219.9096531 , 219.90965321, 219.90965333, 219.90965346,\n",
       "       219.90965359, 219.90965373, 219.90965387, 219.90965402,\n",
       "       219.90965417, 219.90965433, 219.9096545 , 219.90965467,\n",
       "       219.90965484, 219.90965502, 219.90965521, 219.9096554 ,\n",
       "       219.9096556 , 219.9096558 , 219.90965601, 219.90965622,\n",
       "       219.90965644, 219.90965666, 219.90965689, 219.90965713,\n",
       "       219.90965737, 219.90965761, 219.90965786, 219.90965812,\n",
       "       219.90965838, 219.90965865, 219.90965892, 219.9096592 ,\n",
       "       219.90965948, 219.90965977, 219.90966007, 219.90966037,\n",
       "       219.90966067, 219.90966098, 219.9096613 , 219.90966162,\n",
       "       219.90966195, 219.90966228, 219.90966262, 219.90966296,\n",
       "       219.90966331, 219.90966366, 219.90966402, 219.90966438,\n",
       "       219.90966475, 219.90966513, 219.90966551, 219.90966589,\n",
       "       219.90966628, 219.90966668, 219.90966708, 219.90966749,\n",
       "       219.9096679 , 219.90966832, 219.90966874, 219.90966917,\n",
       "       219.9096696 , 219.90967004, 219.90967048, 219.90967093,\n",
       "       219.90967138, 219.90967184, 219.90967231, 219.90967278,\n",
       "       219.90967325, 219.90967373, 219.90967422, 219.90967471,\n",
       "       219.90967521, 219.90967571, 219.90967621, 219.90967673,\n",
       "       219.90967724, 219.90967777, 219.90967829])"
      ]
     },
     "execution_count": 8,
     "metadata": {},
     "output_type": "execute_result"
    }
   ],
   "source": [
    "a"
   ]
  },
  {
   "cell_type": "code",
   "execution_count": 4,
   "metadata": {},
   "outputs": [],
   "source": [
    "a = [0,0,1,2,3,500,0,1]"
   ]
  },
  {
   "cell_type": "code",
   "execution_count": 5,
   "metadata": {},
   "outputs": [
    {
     "data": {
      "text/plain": [
       "5"
      ]
     },
     "execution_count": 5,
     "metadata": {},
     "output_type": "execute_result"
    }
   ],
   "source": [
    "np.argmax(a)"
   ]
  },
  {
   "cell_type": "code",
   "execution_count": null,
   "metadata": {},
   "outputs": [],
   "source": []
  }
 ],
 "metadata": {
  "kernelspec": {
   "display_name": "Python 3",
   "language": "python",
   "name": "python3"
  },
  "language_info": {
   "codemirror_mode": {
    "name": "ipython",
    "version": 3
   },
   "file_extension": ".py",
   "mimetype": "text/x-python",
   "name": "python",
   "nbconvert_exporter": "python",
   "pygments_lexer": "ipython3",
   "version": "3.6.3"
  }
 },
 "nbformat": 4,
 "nbformat_minor": 2
}
